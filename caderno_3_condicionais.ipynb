{
  "cells": [
    {
      "cell_type": "markdown",
      "metadata": {
        "id": "view-in-github",
        "colab_type": "text"
      },
      "source": [
        "<a href=\"https://colab.research.google.com/github/savefeer/curso-python/blob/main/caderno_3_condicionais.ipynb\" target=\"_parent\"><img src=\"https://colab.research.google.com/assets/colab-badge.svg\" alt=\"Open In Colab\"/></a>"
      ]
    },
    {
      "cell_type": "markdown",
      "metadata": {
        "id": "UkLPlsVNo7wI"
      },
      "source": [
        "<img src=\"https://github.com/savefeer/curso-python/blob/main/images/condicionais.png?raw=1\">\n",
        "\n",
        "## Condicionais"
      ]
    },
    {
      "cell_type": "code",
      "execution_count": null,
      "metadata": {
        "id": "3ewzETUbo7wK",
        "outputId": "3b71cb19-0f8f-440f-e282-a4a812297107",
        "colab": {
          "base_uri": "https://localhost:8080/"
        }
      },
      "outputs": [
        {
          "output_type": "execute_result",
          "data": {
            "text/plain": [
              "True"
            ]
          },
          "metadata": {},
          "execution_count": 6
        }
      ],
      "source": [
        "10 > 0"
      ]
    },
    {
      "cell_type": "code",
      "execution_count": null,
      "metadata": {
        "id": "iFSIVxh6o7wL",
        "outputId": "4c13b8b0-6334-4112-b8cd-c1a943e40254",
        "colab": {
          "base_uri": "https://localhost:8080/"
        }
      },
      "outputs": [
        {
          "output_type": "execute_result",
          "data": {
            "text/plain": [
              "True"
            ]
          },
          "metadata": {},
          "execution_count": 8
        }
      ],
      "source": [
        "10 == 10"
      ]
    },
    {
      "cell_type": "code",
      "execution_count": null,
      "metadata": {
        "id": "NiQ1dCzdo7wL",
        "outputId": "46ffd48e-a7b6-4db9-8217-37a4e102f294",
        "colab": {
          "base_uri": "https://localhost:8080/"
        }
      },
      "outputs": [
        {
          "output_type": "execute_result",
          "data": {
            "text/plain": [
              "False"
            ]
          },
          "metadata": {},
          "execution_count": 5
        }
      ],
      "source": [
        "-85 > 0"
      ]
    },
    {
      "cell_type": "code",
      "execution_count": null,
      "metadata": {
        "id": "qVyWcyLGo7wM",
        "outputId": "8a62504f-b27c-4994-c49f-3fd7b42e1163",
        "colab": {
          "base_uri": "https://localhost:8080/"
        }
      },
      "outputs": [
        {
          "output_type": "stream",
          "name": "stdout",
          "text": [
            "Entre com o número: 89\n",
            "\n",
            "O número indicado é positivo\n"
          ]
        }
      ],
      "source": [
        "#if comparação:\n",
        "# ação que a gente deseja tomar se aquela comparação testada for verdadeira\n",
        "num = int(input('Entre com o número: '))\n",
        "\n",
        "if num > 0:\n",
        "    print('\\nO número indicado é positivo')\n",
        "\n"
      ]
    },
    {
      "cell_type": "code",
      "execution_count": null,
      "metadata": {
        "id": "bVgAfSBLo7wM",
        "outputId": "aec8ddb3-24c9-48f2-a92b-f77eb68c5b3f",
        "colab": {
          "base_uri": "https://localhost:8080/"
        }
      },
      "outputs": [
        {
          "output_type": "stream",
          "name": "stdout",
          "text": [
            "Entre com o número: 1\n",
            "\n",
            "O número indicado é positivo\n"
          ]
        }
      ],
      "source": [
        "#Em Python, \"elif\" é uma palavra-chave que faz parte da estrutura condicional \"if-elif-else\". A\n",
        "#A palavra \"elif\" é uma abreviação de \"else if\" e é usada para testar condições adicionais, quando várias condições precisam ser verificadas em uma estrutura condicional.\n",
        "\n",
        "num = int(input('Entre com o número: '))\n",
        "\n",
        "if num > 0:\n",
        "    print('\\nO número indicado é positivo')\n",
        "elif num == 0:\n",
        "    print('\\nO número indicado é igual a zero')\n",
        "else:\n",
        "    print('\\nO número indicado é negativo')"
      ]
    },
    {
      "cell_type": "markdown",
      "metadata": {
        "id": "GUk-kY9fo7wN"
      },
      "source": [
        "### Múltipas condições"
      ]
    },
    {
      "cell_type": "markdown",
      "metadata": {
        "id": "JuH6tZTEo7wN"
      },
      "source": [
        "> [Escreva um programa que leia três números e que imprima o maior e o menor](https://python.nilo.pro.br/exercicios3/capitulo%2004/exercicio-04-03.html)"
      ]
    },
    {
      "cell_type": "code",
      "execution_count": null,
      "metadata": {
        "id": "mmmVL9BFo7wN",
        "outputId": "3a209a81-b253-4b94-ea16-44ec23a0a3d7",
        "colab": {
          "base_uri": "https://localhost:8080/",
          "height": 380
        }
      },
      "outputs": [
        {
          "output_type": "error",
          "ename": "KeyboardInterrupt",
          "evalue": "ignored",
          "traceback": [
            "\u001b[0;31m---------------------------------------------------------------------------\u001b[0m",
            "\u001b[0;31mKeyboardInterrupt\u001b[0m                         Traceback (most recent call last)",
            "\u001b[0;32m<ipython-input-12-bf62f77262e4>\u001b[0m in \u001b[0;36m<cell line: 1>\u001b[0;34m()\u001b[0m\n\u001b[0;32m----> 1\u001b[0;31m \u001b[0ma\u001b[0m \u001b[0;34m=\u001b[0m \u001b[0mfloat\u001b[0m\u001b[0;34m(\u001b[0m\u001b[0minput\u001b[0m\u001b[0;34m(\u001b[0m\u001b[0;34m\"Digite o primeiro valor:\"\u001b[0m\u001b[0;34m)\u001b[0m\u001b[0;34m)\u001b[0m\u001b[0;34m\u001b[0m\u001b[0;34m\u001b[0m\u001b[0m\n\u001b[0m\u001b[1;32m      2\u001b[0m \u001b[0mb\u001b[0m \u001b[0;34m=\u001b[0m \u001b[0mfloat\u001b[0m\u001b[0;34m(\u001b[0m\u001b[0minput\u001b[0m\u001b[0;34m(\u001b[0m\u001b[0;34m\"Digite o segundo valor:\"\u001b[0m\u001b[0;34m)\u001b[0m\u001b[0;34m)\u001b[0m\u001b[0;34m\u001b[0m\u001b[0;34m\u001b[0m\u001b[0m\n\u001b[1;32m      3\u001b[0m \u001b[0mc\u001b[0m \u001b[0;34m=\u001b[0m \u001b[0mfloat\u001b[0m\u001b[0;34m(\u001b[0m\u001b[0minput\u001b[0m\u001b[0;34m(\u001b[0m\u001b[0;34m\"Digite o terceiro valor:\"\u001b[0m\u001b[0;34m)\u001b[0m\u001b[0;34m)\u001b[0m\u001b[0;34m\u001b[0m\u001b[0;34m\u001b[0m\u001b[0m\n\u001b[1;32m      4\u001b[0m \u001b[0;34m\u001b[0m\u001b[0m\n\u001b[1;32m      5\u001b[0m \u001b[0mmaior\u001b[0m \u001b[0;34m=\u001b[0m \u001b[0ma\u001b[0m\u001b[0;34m\u001b[0m\u001b[0;34m\u001b[0m\u001b[0m\n",
            "\u001b[0;32m/usr/local/lib/python3.10/dist-packages/ipykernel/kernelbase.py\u001b[0m in \u001b[0;36mraw_input\u001b[0;34m(self, prompt)\u001b[0m\n\u001b[1;32m    849\u001b[0m                 \u001b[0;34m\"raw_input was called, but this frontend does not support input requests.\"\u001b[0m\u001b[0;34m\u001b[0m\u001b[0;34m\u001b[0m\u001b[0m\n\u001b[1;32m    850\u001b[0m             )\n\u001b[0;32m--> 851\u001b[0;31m         return self._input_request(str(prompt),\n\u001b[0m\u001b[1;32m    852\u001b[0m             \u001b[0mself\u001b[0m\u001b[0;34m.\u001b[0m\u001b[0m_parent_ident\u001b[0m\u001b[0;34m,\u001b[0m\u001b[0;34m\u001b[0m\u001b[0;34m\u001b[0m\u001b[0m\n\u001b[1;32m    853\u001b[0m             \u001b[0mself\u001b[0m\u001b[0;34m.\u001b[0m\u001b[0m_parent_header\u001b[0m\u001b[0;34m,\u001b[0m\u001b[0;34m\u001b[0m\u001b[0;34m\u001b[0m\u001b[0m\n",
            "\u001b[0;32m/usr/local/lib/python3.10/dist-packages/ipykernel/kernelbase.py\u001b[0m in \u001b[0;36m_input_request\u001b[0;34m(self, prompt, ident, parent, password)\u001b[0m\n\u001b[1;32m    893\u001b[0m             \u001b[0;32mexcept\u001b[0m \u001b[0mKeyboardInterrupt\u001b[0m\u001b[0;34m:\u001b[0m\u001b[0;34m\u001b[0m\u001b[0;34m\u001b[0m\u001b[0m\n\u001b[1;32m    894\u001b[0m                 \u001b[0;31m# re-raise KeyboardInterrupt, to truncate traceback\u001b[0m\u001b[0;34m\u001b[0m\u001b[0;34m\u001b[0m\u001b[0m\n\u001b[0;32m--> 895\u001b[0;31m                 \u001b[0;32mraise\u001b[0m \u001b[0mKeyboardInterrupt\u001b[0m\u001b[0;34m(\u001b[0m\u001b[0;34m\"Interrupted by user\"\u001b[0m\u001b[0;34m)\u001b[0m \u001b[0;32mfrom\u001b[0m \u001b[0;32mNone\u001b[0m\u001b[0;34m\u001b[0m\u001b[0;34m\u001b[0m\u001b[0m\n\u001b[0m\u001b[1;32m    896\u001b[0m             \u001b[0;32mexcept\u001b[0m \u001b[0mException\u001b[0m \u001b[0;32mas\u001b[0m \u001b[0me\u001b[0m\u001b[0;34m:\u001b[0m\u001b[0;34m\u001b[0m\u001b[0;34m\u001b[0m\u001b[0m\n\u001b[1;32m    897\u001b[0m                 \u001b[0mself\u001b[0m\u001b[0;34m.\u001b[0m\u001b[0mlog\u001b[0m\u001b[0;34m.\u001b[0m\u001b[0mwarning\u001b[0m\u001b[0;34m(\u001b[0m\u001b[0;34m\"Invalid Message:\"\u001b[0m\u001b[0;34m,\u001b[0m \u001b[0mexc_info\u001b[0m\u001b[0;34m=\u001b[0m\u001b[0;32mTrue\u001b[0m\u001b[0;34m)\u001b[0m\u001b[0;34m\u001b[0m\u001b[0;34m\u001b[0m\u001b[0m\n",
            "\u001b[0;31mKeyboardInterrupt\u001b[0m: Interrupted by user"
          ]
        }
      ],
      "source": [
        "a = int(input(\"Digite o primeiro valor:\"))\n",
        "b = int(input(\"Digite o segundo valor:\"))\n",
        "c = int(input(\"Digite o terceiro valor:\"))\n",
        "\n",
        "maior = a\n",
        "if b > a and b > c:\n",
        "    maior = b\n",
        "if c > a and c > b:\n",
        "    maior = c\n",
        "    \n",
        "menor = a\n",
        "if b < c and b < a:\n",
        "    menor = b\n",
        "if c < b and c < a:\n",
        "    menor = c\n",
        "    \n",
        "print(f\"\\nO menor número digitado foi {menor}\")\n",
        "print(f\"\\nO maior número digitado foi {maior}\")"
      ]
    },
    {
      "cell_type": "markdown",
      "metadata": {
        "id": "05rNp-bBo7wN"
      },
      "source": [
        "## Exercícios"
      ]
    },
    {
      "cell_type": "markdown",
      "metadata": {
        "id": "PjkqMFSho7wN"
      },
      "source": [
        "1) Faça um algoritmo que solicite a entrada de um número e exiba o dia da semana correspondente (1-Domingo, 2- Segunda,...,7-Sábado), se receber um outro valor a mensagem \"Valor inválido\" deverá ser exibida."
      ]
    },
    {
      "cell_type": "code",
      "execution_count": null,
      "metadata": {
        "id": "0XAN7EPro7wO",
        "outputId": "8ba31c2c-199f-4f75-8ceb-b1b1d8b5fcbf",
        "colab": {
          "base_uri": "https://localhost:8080/"
        }
      },
      "outputs": [
        {
          "output_type": "stream",
          "name": "stdout",
          "text": [
            "Informe um número que represente um dia da semana. Valores de 1 a 7:56\n",
            "\n",
            "Valor Inválido!!!!\n"
          ]
        }
      ],
      "source": [
        "diaSemana = int(input('Informe um número que represente um dia da semana. Valores de 1 a 7:'))\n",
        "  try:\n",
        "    int\n",
        "if diaSemana == 1:\n",
        "  print('\\nO dia da semana é domingo')\n",
        "elif diaSemana == 2:\n",
        "  print('\\nO dia da semana é segunda')\n",
        "elif diaSemana == 3:\n",
        "  print('\\nO dia da semana é terça')\n",
        "elif diaSemana == 4:\n",
        "  print('\\nO dia da semana é quarta')\n",
        "elif diaSemana == 5:\n",
        "  print('\\nO dia da semana é quinta')\n",
        "elif diaSemana == 6:\n",
        "  print('\\nO dia da semana é sexta uhul')\n",
        "elif diaSemana == 7:\n",
        "  print('\\nO dia da semana é sábado :)')\n",
        "else:\n",
        "  print('\\nValor Inválido!!!!') \n",
        "  \n",
        "  # \\n dá a quebra do texto para a string\n"
      ]
    },
    {
      "cell_type": "markdown",
      "metadata": {
        "id": "a6076jcko7wO"
      },
      "source": [
        "2) Faça um algoritmo que pergunte a usuária em que ano ela nasceu e, caso ela seja maior de idade, imprima em que ano ela fez 18 anos. Caso ela seja menor de idade, imprima em qual ano ela completará 18 anos. \n",
        "\n",
        "Pra deixar a saída mais fácil de entender utilize mensagens como: **\"Você fez 18 anos em: \"**, **\"Você completará 18 anos em: \"**."
      ]
    },
    {
      "cell_type": "code",
      "execution_count": null,
      "metadata": {
        "id": "fx44ut17o7wO",
        "outputId": "eca36cd9-06d6-4c0c-e6d9-a6ee5ca82cea",
        "colab": {
          "base_uri": "https://localhost:8080/"
        }
      },
      "outputs": [
        {
          "output_type": "stream",
          "name": "stdout",
          "text": [
            "Informe o ano de seu nascimento 2007\n",
            "\n",
            "Você completará 18 amos em 2025\n"
          ]
        }
      ],
      "source": [
        "idade = int(input( 'Informe o ano de seu nascimento '))\n",
        "if idade < 2005: \n",
        "  print('\\nVocê fez 18 anos em', (idade + 18))\n",
        "elif idade > 2005:\n",
        "  print('\\nVocê completará 18 amos em', (idade + 18))\n"
      ]
    },
    {
      "cell_type": "markdown",
      "metadata": {
        "id": "ieLKOvqoo7wO"
      },
      "source": [
        "3) Faça um algoritmo que solicite as 3 notas da usuária, calcule a média e indique se a aluna foi aprovada ou reprovada (nota precisar ser **maior ou igual** à 7 para a aluna ser aprovada)."
      ]
    },
    {
      "cell_type": "code",
      "execution_count": null,
      "metadata": {
        "id": "FneNzJJUo7wO",
        "colab": {
          "base_uri": "https://localhost:8080/"
        },
        "outputId": "fbc06b18-f128-429f-943d-afad54d4bce2"
      },
      "outputs": [
        {
          "output_type": "stream",
          "name": "stdout",
          "text": [
            "Informe sua nota1\n",
            "Informe sua nota1\n",
            "Informe sua nota1\n",
            "\n",
            "Sua media é, 1.0 . Você não passou :(.\n"
          ]
        }
      ],
      "source": [
        "nota1 = float(input ('Informe sua nota'))\n",
        "nota2 = float(input ('Informe sua nota'))\n",
        "nota3 = float(input ('Informe sua nota'))\n",
        "media = ((nota1+nota2+nota3)/3)\n",
        "if media >= 7:\n",
        "  print('\\nSua media é',media,'. Você está aprovade.')\n",
        "elif media < 7:\n",
        "  print ('\\nSua media é,',media,'. Você não passou :(.')\n",
        "\n"
      ]
    },
    {
      "cell_type": "markdown",
      "metadata": {
        "id": "kl3VL7ogo7wO"
      },
      "source": [
        "4) Faça um algoritmo que pergunte a idade da usuária e depois disso exiba a classificação etária de acordo com as faixas de valores:\n",
        "    \n",
        "- Criança para 0 até 11 anos;\n",
        "- Adolescente para 12 até 18 anos;\n",
        "- Jovem para 19 até 24 anos;\n",
        "- Adulto para 25 até 40 anos;\n",
        "- Meia Idade para 41 até 60 anos;\n",
        "- Idoso acima de 60 anos."
      ]
    },
    {
      "cell_type": "code",
      "execution_count": null,
      "metadata": {
        "id": "uoFYCyfqo7wP",
        "colab": {
          "base_uri": "https://localhost:8080/"
        },
        "outputId": "6fe946db-4b63-4bfa-f5f6-bd12638f2a98"
      },
      "outputs": [
        {
          "output_type": "stream",
          "name": "stdout",
          "text": [
            "Informe a sua idade 64\n",
            "\n",
            "Você é idoso(a)\n"
          ]
        }
      ],
      "source": [
        "idade = int(input('Informe a sua idade '))\n",
        "if idade <= 11:\n",
        "  print('\\nVocê é uma criança')\n",
        "elif idade >=12 and idade <=18:\n",
        "  print('\\nVocê é um(a) adolescente')\n",
        "elif idade >=19 and idade <=24:\n",
        "  print('\\nVocê é um(a) jovem')\n",
        "elif idade >=25 and idade <=40:\n",
        "  print('\\nVocê é um(a) adulto')\n",
        "elif idade >=41 and idade <=60:\n",
        "  print('\\nVocê está na meia idade')\n",
        "else:\n",
        "  print('\\nVocê é idoso(a)')\n"
      ]
    },
    {
      "cell_type": "markdown",
      "metadata": {
        "id": "SOoDmROQo7wP"
      },
      "source": [
        "> ##### Você sabe como Python diferencia \"PyLadies\" de \"Pyladies\"? Dá só uma olhada nisso: [Comparação de Strings em Python - eXcript](http://excript.com/python/comparacao-de-string-python.html)"
      ]
    },
    {
      "cell_type": "markdown",
      "metadata": {
        "id": "0ROkGhpno7wP"
      },
      "source": [
        "4) Faça um programa que solicite a entrada de dois nomes e imprima uma mensagem informando se eles são iguais ou não.\n",
        "\n",
        "\n",
        "> ##### Dica: cuidado com o int no `input()`"
      ]
    },
    {
      "cell_type": "code",
      "execution_count": null,
      "metadata": {
        "id": "DzPxoM-8o7wP"
      },
      "outputs": [],
      "source": [
        "palavra1 = input()"
      ]
    },
    {
      "cell_type": "markdown",
      "metadata": {
        "id": "ttTXg0ORo7wP"
      },
      "source": [
        "---\n",
        "\n",
        "## Quais são as outras formas de praticar esses conceitos?\n",
        "\n",
        "<img src=\"https://media.giphy.com/media/kHmVOy84g8G6my09fu/giphy.gif\" align=\"left\">"
      ]
    },
    {
      "cell_type": "markdown",
      "metadata": {
        "id": "IekVEaI3o7wP"
      },
      "source": [
        "<Adicionar atividade de sua preferência para aplicação dos conceitos>"
      ]
    }
  ],
  "metadata": {
    "kernelspec": {
      "display_name": "Python 3 (ipykernel)",
      "language": "python",
      "name": "python3"
    },
    "language_info": {
      "codemirror_mode": {
        "name": "ipython",
        "version": 3
      },
      "file_extension": ".py",
      "mimetype": "text/x-python",
      "name": "python",
      "nbconvert_exporter": "python",
      "pygments_lexer": "ipython3",
      "version": "3.10.9"
    },
    "colab": {
      "provenance": [],
      "include_colab_link": true
    }
  },
  "nbformat": 4,
  "nbformat_minor": 0
}