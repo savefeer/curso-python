{
  "cells": [
    {
      "cell_type": "markdown",
      "metadata": {
        "id": "euXeJa74DS-O"
      },
      "source": [
        "<img src=\"https://github.com/soterolab/curso-python/blob/main/images/funcao.png?raw=1\">\n",
        "\n",
        "## Exemplo de Funções"
      ]
    },
    {
      "cell_type": "code",
      "execution_count": null,
      "metadata": {
        "id": "mZac7__EDS-R",
        "outputId": "63fa1d9d-8b9d-4ba2-d004-7d358c432ea1"
      },
      "outputs": [
        {
          "data": {
            "text/plain": [
              "'Salvador'"
            ]
          },
          "execution_count": 1,
          "metadata": {},
          "output_type": "execute_result"
        }
      ],
      "source": [
        "cidade = 'salvador'\n",
        "cidade.title()"
      ]
    },
    {
      "cell_type": "code",
      "execution_count": null,
      "metadata": {
        "id": "8e2YaERlDS-T",
        "outputId": "b332d579-17aa-4caf-816e-cda5490b8a79"
      },
      "outputs": [
        {
          "data": {
            "text/plain": [
              "'SALVADOR'"
            ]
          },
          "execution_count": 2,
          "metadata": {},
          "output_type": "execute_result"
        }
      ],
      "source": [
        "cidade.upper()"
      ]
    },
    {
      "cell_type": "code",
      "execution_count": null,
      "metadata": {
        "id": "sDwqvxxqDS-T",
        "outputId": "fd944269-5ac6-4088-8415-26758aec2427"
      },
      "outputs": [
        {
          "data": {
            "text/plain": [
              "8"
            ]
          },
          "execution_count": 3,
          "metadata": {},
          "output_type": "execute_result"
        }
      ],
      "source": [
        "len(cidade)"
      ]
    },
    {
      "cell_type": "code",
      "execution_count": null,
      "metadata": {
        "id": "Kvp3I3zoDS-U",
        "outputId": "5affbf35-dc00-4776-a2cb-4e0c42691410"
      },
      "outputs": [
        {
          "name": "stdout",
          "output_type": "stream",
          "text": [
            "salvador\n"
          ]
        }
      ],
      "source": [
        "print(cidade)"
      ]
    },
    {
      "cell_type": "markdown",
      "metadata": {
        "id": "5KSRI3CRDS-U"
      },
      "source": [
        "## Criando uma função"
      ]
    },
    {
      "cell_type": "markdown",
      "metadata": {
        "id": "zxMyBK0yDS-U"
      },
      "source": [
        "### Função sem parâmetro"
      ]
    },
    {
      "cell_type": "code",
      "execution_count": null,
      "metadata": {
        "id": "K368iSgrDS-U"
      },
      "outputs": [],
      "source": [
        "def minha_funcao():\n",
        "    print('Minha primeira função =]')"
      ]
    },
    {
      "cell_type": "code",
      "execution_count": null,
      "metadata": {
        "id": "bEZdyoQcDS-V",
        "outputId": "d991b416-9267-4b6d-c07b-a3bba132695b"
      },
      "outputs": [
        {
          "name": "stdout",
          "output_type": "stream",
          "text": [
            "Minha primeira função =]\n"
          ]
        }
      ],
      "source": [
        "minha_funcao()"
      ]
    },
    {
      "cell_type": "code",
      "execution_count": null,
      "metadata": {
        "id": "SJP_nXkYDS-V"
      },
      "outputs": [],
      "source": [
        "def minha_funcao_media():\n",
        "    primeiraNota = 10\n",
        "    segundaNota = 9\n",
        "    terceitaNota = 10\n",
        "\n",
        "    media = (primeiraNota + segundaNota + terceitaNota) / 3\n",
        "    \n",
        "    print('\\nA média das notas é: ', media)"
      ]
    },
    {
      "cell_type": "code",
      "execution_count": null,
      "metadata": {
        "id": "tTytBjCUDS-V",
        "outputId": "6e3900e9-2614-47e7-f638-8a620cb65522"
      },
      "outputs": [
        {
          "name": "stdout",
          "output_type": "stream",
          "text": [
            "\n",
            "A média das notas é:  9.666666666666666\n"
          ]
        }
      ],
      "source": [
        "minha_funcao_media()"
      ]
    },
    {
      "cell_type": "markdown",
      "metadata": {
        "id": "J4apiDisDS-W"
      },
      "source": [
        "### Função sem parâmetro e com retorno"
      ]
    },
    {
      "cell_type": "code",
      "execution_count": null,
      "metadata": {
        "id": "ae7BQiRDDS-W"
      },
      "outputs": [],
      "source": [
        "def minha_funcao_media():\n",
        "    primeiraNota = 10\n",
        "    segundaNota = 9\n",
        "    terceitaNota = 10\n",
        "\n",
        "    media = (primeiraNota + segundaNota + terceitaNota) / 3\n",
        "    \n",
        "    return media"
      ]
    },
    {
      "cell_type": "code",
      "execution_count": null,
      "metadata": {
        "id": "mlpCzJLvDS-W",
        "outputId": "f9304fe1-27e6-40ef-d197-0ed13bbf6bfa"
      },
      "outputs": [
        {
          "data": {
            "text/plain": [
              "9.666666666666666"
            ]
          },
          "execution_count": 10,
          "metadata": {},
          "output_type": "execute_result"
        }
      ],
      "source": [
        "minha_funcao_media()"
      ]
    },
    {
      "cell_type": "markdown",
      "metadata": {
        "id": "EG610ZYpDS-W"
      },
      "source": [
        "> Ver e executar `codes/funcao_media.py`"
      ]
    },
    {
      "cell_type": "markdown",
      "metadata": {
        "id": "XrQn--G5DS-W"
      },
      "source": [
        "### Função com parâmetro e sem retorno"
      ]
    },
    {
      "cell_type": "code",
      "execution_count": null,
      "metadata": {
        "id": "2H2alxIwDS-W"
      },
      "outputs": [],
      "source": [
        "def minha_funcao_media(primeiraNota, segundaNota, terceitaNota):\n",
        "    \n",
        "    media = (primeiraNota + segundaNota + terceitaNota) / 3\n",
        "    \n",
        "    print('\\nA média das notas é: ', media)"
      ]
    },
    {
      "cell_type": "code",
      "execution_count": null,
      "metadata": {
        "id": "3r4GxpxADS-W",
        "outputId": "c06e0049-b179-47f3-b9a3-9921b00b6c53"
      },
      "outputs": [
        {
          "ename": "TypeError",
          "evalue": "minha_funcao_media() missing 3 required positional arguments: 'primeiraNota', 'segundaNota', and 'terceitaNota'",
          "output_type": "error",
          "traceback": [
            "\u001b[0;31m---------------------------------------------------------------------------\u001b[0m",
            "\u001b[0;31mTypeError\u001b[0m                                 Traceback (most recent call last)",
            "Cell \u001b[0;32mIn[12], line 1\u001b[0m\n\u001b[0;32m----> 1\u001b[0m \u001b[43mminha_funcao_media\u001b[49m\u001b[43m(\u001b[49m\u001b[43m)\u001b[49m\n",
            "\u001b[0;31mTypeError\u001b[0m: minha_funcao_media() missing 3 required positional arguments: 'primeiraNota', 'segundaNota', and 'terceitaNota'"
          ]
        }
      ],
      "source": [
        "minha_funcao_media()"
      ]
    },
    {
      "cell_type": "code",
      "execution_count": null,
      "metadata": {
        "id": "srxifeFrDS-X"
      },
      "outputs": [],
      "source": [
        "minha_funcao_media(10, 8)"
      ]
    },
    {
      "cell_type": "code",
      "execution_count": null,
      "metadata": {
        "id": "_baVtE0mDS-X",
        "outputId": "bab4d6a6-35ef-46bf-fbb4-80e872f466bc"
      },
      "outputs": [
        {
          "name": "stdout",
          "output_type": "stream",
          "text": [
            "\n",
            "A média das notas é:  8.666666666666666\n"
          ]
        }
      ],
      "source": [
        "minha_funcao_media(10, 8, 8)"
      ]
    },
    {
      "cell_type": "markdown",
      "metadata": {
        "id": "9QspZp2WDS-X"
      },
      "source": [
        "### Função com parâmetro padrão e sem retorno"
      ]
    },
    {
      "cell_type": "code",
      "execution_count": null,
      "metadata": {
        "id": "7T2y4favDS-X"
      },
      "outputs": [],
      "source": [
        "def minha_funcao_media(primeiraNota=0, segundaNota=0, terceitaNota=0):\n",
        "    \n",
        "    media = (primeiraNota + segundaNota + terceitaNota) / 3\n",
        "    \n",
        "    print('\\nA média das notas é: ', media)"
      ]
    },
    {
      "cell_type": "code",
      "execution_count": null,
      "metadata": {
        "id": "BFleFxAfDS-X",
        "outputId": "d7a58e91-df8a-4190-a1a9-1646fdff3018"
      },
      "outputs": [
        {
          "name": "stdout",
          "output_type": "stream",
          "text": [
            "\n",
            "A média das notas é:  0.0\n"
          ]
        }
      ],
      "source": [
        "minha_funcao_media()"
      ]
    },
    {
      "cell_type": "markdown",
      "metadata": {
        "id": "GjsNPdoTDS-X"
      },
      "source": [
        "### Função com parâmetro padrão e com retorno"
      ]
    },
    {
      "cell_type": "code",
      "execution_count": null,
      "metadata": {
        "id": "Qls-gkVGDS-X"
      },
      "outputs": [],
      "source": [
        "def minha_funcao_media(primeiraNota=0, segundaNota=0, terceitaNota=0):\n",
        "    \n",
        "    media = (primeiraNota + segundaNota + terceitaNota) / 3\n",
        "    \n",
        "    return media"
      ]
    },
    {
      "cell_type": "code",
      "execution_count": null,
      "metadata": {
        "id": "fE7og4lfDS-Y",
        "outputId": "486f1734-9f57-44d5-82d8-da0fbc89ef0c"
      },
      "outputs": [
        {
          "data": {
            "text/plain": [
              "0.0"
            ]
          },
          "execution_count": 17,
          "metadata": {},
          "output_type": "execute_result"
        }
      ],
      "source": [
        "minha_funcao_media()"
      ]
    },
    {
      "cell_type": "markdown",
      "metadata": {
        "id": "BDiJ85keDS-Y"
      },
      "source": [
        "> Ver e executar `codes/funcao_media_param.py`"
      ]
    },
    {
      "cell_type": "markdown",
      "metadata": {
        "id": "4gbvmCX-DS-Y"
      },
      "source": [
        "## Exercícios"
      ]
    },
    {
      "cell_type": "markdown",
      "metadata": {
        "id": "OWo6b9rADS-Y"
      },
      "source": [
        "1) Faça um código que receba 3 valores e calcule uma média. Você deve usar uma função para o cálculo da média."
      ]
    },
    {
      "cell_type": "code",
      "execution_count": null,
      "metadata": {
        "id": "LpL8Vme-DS-Y"
      },
      "outputs": [],
      "source": []
    },
    {
      "cell_type": "markdown",
      "metadata": {
        "id": "vvX0p2bXDS-Y"
      },
      "source": [
        "2) Faça um código que recebe um valor de salário e um percentual de aumento, qual é o novo valor de salário  \n",
        "após aplicar o percentual de aumento? Você deve usar uma função para o cálculo do novo salário."
      ]
    },
    {
      "cell_type": "code",
      "execution_count": null,
      "metadata": {
        "id": "tPzzHyz5DS-Z"
      },
      "outputs": [],
      "source": []
    },
    {
      "cell_type": "markdown",
      "metadata": {
        "id": "Fay3GA-rDS-Z"
      },
      "source": [
        "3) Escreva um programa para armazenar uma agenda de telefones em um dicionário. Cada pessoa pode ter um ou mais telefones e a chave do dicionário é o nome da pessoa. Seu programa deve ter as seguintes funções:\n",
        "\n",
        "- incluir_novo_nome – essa função acrescenta um novo nome na agenda, com um ou mais telefones. Ela deve receber como argumentos o nome e os telefones. ­\n",
        "- incluir_telefone – essa função acrescenta um telefone em um nome existente na agenda. Caso o nome não exista na agenda, você deve perguntar se a pessoa deseja incluí-­lo. Caso a resposta seja afirmativa, use a função anterior para incluir o novo nome. \n",
        "- excluir_telefone – essa função exclui um telefone de uma pessoa que já está na agenda. Se a pessoa tiver apenas um telefone, ela deve ser excluída da agenda. ­\n",
        "- excluir_nome – essa função exclui uma pessoa da agenda. ­\n",
        "- consultar_telefone – essa função retorna os telefones de uma pessoa na agenda."
      ]
    },
    {
      "cell_type": "code",
      "execution_count": null,
      "metadata": {
        "id": "ygBugTBQDS-Z"
      },
      "outputs": [],
      "source": [
        "agenda = {} # já temos o objeto 'agenda' do tipo dicionário, agora é com você!"
      ]
    },
    {
      "cell_type": "markdown",
      "metadata": {
        "id": "IJr4_y5LDS-Z"
      },
      "source": [
        "---\n",
        "\n",
        "## Quais são as outras formas de praticar esses conceitos?\n",
        "\n",
        "<img src=\"https://media1.tenor.com/images/325243df1673b884f9a044797c1cfd00/tenor.gif\" align=\"left\">"
      ]
    },
    {
      "cell_type": "markdown",
      "metadata": {
        "id": "sclyRjddDS-Z"
      },
      "source": [
        "<Adicionar atividade de sua preferência para aplicação dos conceitos>"
      ]
    }
  ],
  "metadata": {
    "kernelspec": {
      "display_name": "Python 3 (ipykernel)",
      "language": "python",
      "name": "python3"
    },
    "language_info": {
      "codemirror_mode": {
        "name": "ipython",
        "version": 3
      },
      "file_extension": ".py",
      "mimetype": "text/x-python",
      "name": "python",
      "nbconvert_exporter": "python",
      "pygments_lexer": "ipython3",
      "version": "3.10.9"
    },
    "colab": {
      "provenance": []
    }
  },
  "nbformat": 4,
  "nbformat_minor": 0
}